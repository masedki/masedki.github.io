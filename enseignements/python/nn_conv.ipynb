{
 "cells": [
  {
   "cell_type": "markdown",
   "metadata": {},
   "source": [
    "## Classification des images *Fashion MNIST*\n",
    "\n",
    "Le jeu de données Fashion MNIST est identique au jeu de données MNIST (chiffres manuscrits) en termes de taille de jeu de données d'entraînement, de taille de jeu de données de test, de nombre d'étiquettes de classe et de dimensions des images.\n",
    "\n",
    "Pour récapituler, le jeu de données est composé:\n",
    "\n",
    " - 60000 images d'entraînement  \n",
    " \n",
    " - 10000 images de test\n",
    " \n",
    " - 10 classes\n",
    " \n",
    " - Images en niveaux de gris 28 × 28 \n",
    " \n",
    "\n",
    "Les 10 classes (*labels*) de ce jeu de donneés sont :\n",
    "\n",
    "  0. T-shirt/top\n",
    "  1. Trouser\n",
    "  2. Pullover\n",
    "  3. Dress\n",
    "  4. Coat \n",
    "  5. Sandal\n",
    "  6. Shirt\n",
    "  7. Sneaker\n",
    "  8. Bag\n",
    "  9. Ankle boot\n",
    "  \n",
    "Nous allons maintenant construire un CNN pour prédire le label d'une image. Commençons par importer les packages suivants:  "
   ]
  },
  {
   "cell_type": "code",
   "execution_count": null,
   "metadata": {},
   "outputs": [],
   "source": [
    "## pour tracer des figures\n",
    "import matplotlib.pyplot as plt\n",
    "## pour déclarer le CNN\n",
    "import keras\n",
    "from keras import datasets\n",
    "from keras.models import Sequential\n",
    "from keras.layers import Dense, Dropout, Flatten, Activation, Conv2D, MaxPooling2D\n",
    "from keras import backend as K\n",
    "import tensorflow as tf"
   ]
  },
  {
   "cell_type": "markdown",
   "metadata": {},
   "source": [
    "### Lecture du jeu de données"
   ]
  },
  {
   "cell_type": "code",
   "execution_count": null,
   "metadata": {},
   "outputs": [],
   "source": [
    "(X_train, y_train), (X_test, y_test) = datasets.fashion_mnist.load_data()\n",
    "print('X_train shape:', X_train.shape)\n",
    "print('X_test shape:', X_test.shape)"
   ]
  },
  {
   "cell_type": "markdown",
   "metadata": {},
   "source": [
    "### Tracer 2 images  "
   ]
  },
  {
   "cell_type": "code",
   "execution_count": null,
   "metadata": {},
   "outputs": [],
   "source": [
    "#on peut changer les indices des images pour afficher d'autres images\n",
    "plt.subplot(221)\n",
    "plt.imshow(X_train[0], cmap=plt.get_cmap('gray'))\n",
    "plt.subplot(222)\n",
    "plt.imshow(X_train[1], cmap=plt.get_cmap('gray'));"
   ]
  },
  {
   "cell_type": "markdown",
   "metadata": {},
   "source": [
    "### Paramètres de réglage et dimensions du jeu de données"
   ]
  },
  {
   "cell_type": "code",
   "execution_count": null,
   "metadata": {},
   "outputs": [],
   "source": [
    "## paramètres de réglage\n",
    "batch_size = 100\n",
    "epochs = 12\n",
    "## dimensions\n",
    "num_classes = 10\n",
    "img_rows, img_cols = 28, 28"
   ]
  },
  {
   "cell_type": "markdown",
   "metadata": {},
   "source": [
    "### Mettre les données aux bonnes dimensions et aux bons formats "
   ]
  },
  {
   "cell_type": "code",
   "execution_count": null,
   "metadata": {},
   "outputs": [],
   "source": [
    "## le format des données \n",
    "if K.image_data_format() == 'channels_first': \n",
    "    X_train = X_train.reshape(X_train.shape[0], 1, img_rows, img_cols)\n",
    "    X_test = X_test.reshape(X_test.shape[0], 1, img_rows, img_cols)\n",
    "    input_shape = (1, img_rows, img_cols)\n",
    "else:\n",
    "    X_train = X_train.reshape(X_train.shape[0], img_rows, img_cols, 1)\n",
    "    X_test = X_test.reshape(X_test.shape[0], img_rows, img_cols, 1)\n",
    "    \n",
    "input_shape = (img_rows, img_cols, 1)\n",
    "\n",
    "X_train = X_train.astype('float32')\n",
    "X_test = X_test.astype('float32')\n",
    "X_train /= 255\n",
    "X_test /= 255\n",
    "\n",
    "## encodage binaires de la variables réponses \n",
    "y_train = keras.utils.to_categorical(y_train, num_classes)\n",
    "y_test = keras.utils.to_categorical(y_test, num_classes)\n",
    "\n",
    "## un peu d'affichage\n",
    "print(K.image_data_format())\n",
    "print('X_train shape:', X_train.shape)\n",
    "print('X_test shape:', X_test.shape)\n",
    "print(X_train.shape[0], \"images pour l'apprentissage\")\n",
    "print(X_test.shape[0], \"images de test\")"
   ]
  },
  {
   "cell_type": "markdown",
   "metadata": {},
   "source": [
    "### Création ou déclaration du réseau de neurones \n",
    "\n",
    "L'architecture du réseau de neurones convolutifs sera composée\n",
    "\n",
    "  0. La première couche cachée `Conv2D` est une couche convolutive qui a 32 `feature maps`, chacune avec une taille de `3x3` et nous utilisons une fonction d'activation linéaire rectifiée `relu`.\n",
    "  \n",
    "  1. Nous ajoutons ensuite une autre couche convolutive avec 64 `feature maps`.\n",
    "  \n",
    "  2. Nous ajoutons une troisième couche convolutive avec 128 `feature maps`.\n",
    "  \n",
    "  3. Nous ajoutons ensuite une couche de pooling `MaxPooling2D1` qui est configurée avec un `pool size` de `2x2`.\n",
    "  \n",
    "  4. Nous appliquons ensuite une couche de régularisation en utilisant une couche dite `Dropout` qui consiste à exclure de manière aléatoire `25%` des neurones de la couche - ceci est utilisé pour réduire le surajustement.\n",
    "  \n",
    "  5. Nous convertissons ensuite la matrice à 2 dimensions en un vecteur en utilisant une procédure `Flatten` - cela permet à notre sortie d'être traitée par des couches entièrement connectées\n",
    "  \n",
    "  6. Ensuite, nous ajoutons une couche entièrement connectée qui a `128` neurones et une fonction d'activation `ReLU`.\n",
    "  \n",
    "  7. Nous ajouterons ensuite une autre couche de régularisation pour réduire le surajustement, cette fois nous excluons aléatoirement `50%` des neurones\n",
    "  \n",
    "  8. Nous terminons le réseau de neurones avec une couche de sortie qui a 10 neurones - le même que le nombre de classes dans notre problème de classification et une fonction d'activation `softmax`. Cela produira une prédiction de la probabilité qu'une image appartienne à chaque classe.\n",
    " \n",
    " "
   ]
  },
  {
   "cell_type": "code",
   "execution_count": null,
   "metadata": {},
   "outputs": [],
   "source": [
    "model = Sequential()\n",
    "\n",
    "# ajout des couches au réseau de neurones \n",
    "model.add(Conv2D(32, kernel_size=(3, 3), activation='relu', input_shape=input_shape))\n",
    "model.add(Conv2D(64, (3, 3), activation='relu'))\n",
    "model.add(Conv2D(128, (3, 3), activation='relu'))\n",
    "model.add(MaxPooling2D(pool_size=(2, 2)))\n",
    "model.add(Dropout(0.25))\n",
    "model.add(Flatten())\n",
    "model.add(Dense(128, activation='relu'))\n",
    "model.add(Dropout(0.5))\n",
    "model.add(Dense(num_classes, activation=Activation(tf.nn.softmax)))\n",
    "\n",
    "model.summary()"
   ]
  },
  {
   "cell_type": "markdown",
   "metadata": {},
   "source": [
    "### Compiler le modèle"
   ]
  },
  {
   "cell_type": "code",
   "execution_count": null,
   "metadata": {},
   "outputs": [],
   "source": [
    "model.compile(loss=keras.losses.categorical_crossentropy, \n",
    "              optimizer=keras.optimizers.Adadelta(), \n",
    "              metrics=['accuracy'])"
   ]
  },
  {
   "cell_type": "markdown",
   "metadata": {},
   "source": [
    "### Apprentissage du modèle "
   ]
  },
  {
   "cell_type": "code",
   "execution_count": null,
   "metadata": {},
   "outputs": [],
   "source": [
    "model.fit(X_train, y_train, \n",
    "          batch_size=batch_size, \n",
    "          epochs=epochs, \n",
    "          verbose=1, \n",
    "          validation_data=(X_test, y_test))"
   ]
  },
  {
   "cell_type": "code",
   "execution_count": null,
   "metadata": {},
   "outputs": [],
   "source": [
    "score = model.evaluate(X_test, y_test, verbose=0)\n",
    "print('Erreur de test:', score[1])"
   ]
  }
 ],
 "metadata": {
  "kernelspec": {
   "display_name": "Python 3",
   "language": "python",
   "name": "python3"
  },
  "language_info": {
   "codemirror_mode": {
    "name": "ipython",
    "version": 3
   },
   "file_extension": ".py",
   "mimetype": "text/x-python",
   "name": "python",
   "nbconvert_exporter": "python",
   "pygments_lexer": "ipython3",
   "version": "3.8.3"
  }
 },
 "nbformat": 4,
 "nbformat_minor": 4
}
