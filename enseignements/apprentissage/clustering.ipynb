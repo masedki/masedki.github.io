{
 "cells": [
  {
   "cell_type": "markdown",
   "metadata": {},
   "source": [
    "Ces exemples de clustering par les kmeans et CAH sont une adaptation de p. 404-407, 410-413 de \"Introduction to Statistical Learning with Applications in R\" de Gareth James, Daniela Witten, Trevor Hastie et Robert Tibshirani.\n",
    "\n",
    "## Méthode des kmeans"
   ]
  },
  {
   "cell_type": "code",
   "execution_count": null,
   "metadata": {},
   "outputs": [],
   "source": [
    "import pandas as pd\n",
    "import numpy as np\n",
    "import matplotlib.pyplot as plt\n",
    "%matplotlib inline\n",
    "\n",
    "np.random.seed(123)\n",
    "X = np.random.randn(50,2)\n",
    "X[0:25, 0] = X[0:25, 0] + 3\n",
    "X[0:25, 1] = X[0:25, 1] - 4\n",
    "\n",
    "f, ax = plt.subplots(figsize=(6, 5))\n",
    "ax.scatter(X[:,0], X[:,1], s=50) \n",
    "ax.set_xlabel('X0')\n",
    "ax.set_ylabel('X1')"
   ]
  },
  {
   "cell_type": "markdown",
   "metadata": {},
   "source": [
    "clustering par les kmeans avec $K=2$ "
   ]
  },
  {
   "cell_type": "code",
   "execution_count": null,
   "metadata": {},
   "outputs": [],
   "source": [
    "from sklearn.cluster import KMeans\n",
    "kmeans = KMeans(n_clusters = 2, random_state = 123).fit(X)\n",
    "print(kmeans.labels_)"
   ]
  },
  {
   "cell_type": "code",
   "execution_count": null,
   "metadata": {},
   "outputs": [],
   "source": [
    "plt.figure(figsize=(6,5))\n",
    "plt.scatter(X[:,0], X[:,1], s = 50, c = kmeans.labels_, cmap = plt.cm.bwr) \n",
    "plt.scatter(kmeans.cluster_centers_[:, 0], \n",
    "            kmeans.cluster_centers_[:, 1], \n",
    "            marker = '*', \n",
    "            s = 150,\n",
    "            color = 'cyan', \n",
    "            label = 'Centers')\n",
    "plt.legend(loc = 'best')\n",
    "plt.xlabel('X0')\n",
    "plt.ylabel('X1')"
   ]
  },
  {
   "cell_type": "markdown",
   "metadata": {},
   "source": [
    "## CAH"
   ]
  },
  {
   "cell_type": "code",
   "execution_count": null,
   "metadata": {},
   "outputs": [],
   "source": [
    "from scipy.cluster.hierarchy import linkage\n",
    "from scipy.cluster.hierarchy import dendrogram\n",
    "from scipy.cluster.hierarchy import cut_tree\n",
    "\n",
    "hc_complete = linkage(X, \"complete\")\n",
    "hc_average = linkage(X, \"average\")\n",
    "hc_single = linkage(X, \"single\")\n",
    "\n",
    "# calculate full dendrogram\n",
    "plt.figure(figsize=(25, 10))\n",
    "plt.title('Hierarchical Clustering Dendrogram')\n",
    "plt.xlabel('sample index')\n",
    "plt.ylabel('distance')\n",
    "dendrogram(\n",
    "    hc_complete,\n",
    "    leaf_rotation=90.,  # rotates the x axis labels\n",
    "    leaf_font_size=8.,  # font size for the x axis labels\n",
    ")\n",
    "plt.show()"
   ]
  },
  {
   "cell_type": "code",
   "execution_count": null,
   "metadata": {},
   "outputs": [],
   "source": [
    "print(cut_tree(hc_complete, n_clusters = 2).T) # Printing transpose just for space"
   ]
  },
  {
   "cell_type": "markdown",
   "metadata": {},
   "source": [
    "## Données NCI60 (livre ISLR)\n",
    "\n",
    "NCI microarray data. The data contains expression levels on 6830 genes from 64 cancer cell lines. Cancer type is also recorded."
   ]
  },
  {
   "cell_type": "code",
   "execution_count": null,
   "metadata": {},
   "outputs": [],
   "source": [
    "# The NCI60 data\n",
    "nci_labs = pd.read_csv(\"../data/nci_label.txt\")#, index_col = 0)\n",
    "nci_data = np.transpose(pd.read_csv(\"../data/nci_data.csv\", index_col = 0))"
   ]
  },
  {
   "cell_type": "markdown",
   "metadata": {},
   "source": [
    "Chaque *cell line* est étiquetée avec un type de cancer. Nous allons cacher les types de cancer lors du clustering, car ce sont des techniques non supervisées. Une fois le clustering effectué, nous utiliserons cette information pour déterminer dans quelle mesure ces types de cancer concordent avec les résultats du clustering. Les données comportent 64 lignes et 6 830 colonnes."
   ]
  },
  {
   "cell_type": "code",
   "execution_count": null,
   "metadata": {},
   "outputs": [],
   "source": [
    "nci_data.shape"
   ]
  },
  {
   "cell_type": "markdown",
   "metadata": {},
   "source": [
    "Un coup d'œil aux types de cancer"
   ]
  },
  {
   "cell_type": "code",
   "execution_count": null,
   "metadata": {},
   "outputs": [],
   "source": [
    "nci_labs.type.value_counts(sort=True)"
   ]
  },
  {
   "cell_type": "markdown",
   "metadata": {},
   "source": [
    "Nous allons appliquer un clustering par CAH des *cell line* du jeu données NCI60, dans le but de déterminer si les observations sont regroupées en types de cancer distincts."
   ]
  },
  {
   "cell_type": "code",
   "execution_count": null,
   "metadata": {},
   "outputs": [],
   "source": [
    "nci_data.index = nci_labs.type\n",
    "\n",
    "fig, ax = plt.subplots(3,1, figsize=(15,22))\n",
    "fig.subplots_adjust(hspace=0.5)\n",
    "\n",
    "linkages = ['complete', 'single', 'average']\n",
    "for link, axis in zip(linkages, fig.axes):\n",
    "    hc = linkage(y = nci_data, method=link, metric='euclidean') \n",
    "    axis.set_title(\"Linkage=%s\" % link, size=15)\n",
    "    axis.set_xlabel('', size=15)\n",
    "    axis.set_ylabel('Distance', size=15)\n",
    "    dendrogram(hc, ax=axis, labels=nci_data.index, leaf_rotation=90, leaf_font_size=10)"
   ]
  },
  {
   "cell_type": "markdown",
   "metadata": {},
   "source": [
    "Le choix du critère d'agrégation impacte les résultats obtenus. En règle générale, un critère de saut minimum tend à produire des grappes de fuite: de très grandes grappes auxquelles des observations individuelles sont rattachées une par une. En revanche, les critères d'agrégation par saut maximum ou par la distance moyenne ont tendance à produire des grappes plus équilibrées. Pour cette raison, les critères d'agrégation par saut maximum ou par la distance moyenne sont généralement préférés au saut minimum. Il est clair que les \"cell line\" d’un même type de cancer ont tendance à se regrouper, bien que le regroupement ne soit pas parfait.\n",
    "\n",
    "Utilisons le résultat de la CAH obtenue par saut maximum pour l'analyse. Nous pouvons couper le dendrogramme à la hauteur qui donnera un nombre particulier de grappes, disons 4:"
   ]
  },
  {
   "cell_type": "code",
   "execution_count": null,
   "metadata": {},
   "outputs": [],
   "source": [
    "nci_hc_complete = linkage(y = nci_data, method=\"complete\", metric='euclidean') \n",
    "\n",
    "nci_hc_complete_4_clusters = cut_tree(nci_hc_complete, n_clusters = 4) # Printing transpose just for space\n",
    "\n",
    "pd.crosstab(index = nci_data.index, \n",
    "            columns = nci_hc_complete_4_clusters.T[0], \n",
    "            rownames = ['Cancer Type'], \n",
    "            colnames = ['Cluster'])"
   ]
  },
  {
   "cell_type": "markdown",
   "metadata": {},
   "source": [
    "Toutes les \"cell line\" de leucémie appartiennent au groupe 2, tandis que les \"cell line\" du cancer du sein sont réparties en trois groupes différents. Nous pouvons tracer la coupe sur le dendrogramme qui produit ces quatre groupes en ajoutant une axhline (), qui trace une ligne horizontale au-dessus de notre graphique:"
   ]
  },
  {
   "cell_type": "code",
   "execution_count": null,
   "metadata": {},
   "outputs": [],
   "source": [
    "fig, ax = plt.subplots(1,1, figsize = (15,8))\n",
    "dendrogram(nci_hc_complete, \n",
    "           labels = nci_data.index, \n",
    "           leaf_font_size = 14, \n",
    "           show_leaf_counts = True)  \n",
    "\n",
    "plt.axhline(y=110, c='k', ls='dashed')\n",
    "plt.show()"
   ]
  },
  {
   "cell_type": "markdown",
   "metadata": {},
   "source": [
    "Comparaison avec les résultats des kmeans avec 4 groupes :"
   ]
  },
  {
   "cell_type": "code",
   "execution_count": null,
   "metadata": {},
   "outputs": [],
   "source": [
    "kmean_4 = KMeans(n_clusters = 4, random_state = 123, n_init = 150)    \n",
    "kmean_4.fit(nci_data)\n",
    "kmean_4.labels_"
   ]
  },
  {
   "cell_type": "code",
   "execution_count": null,
   "metadata": {},
   "outputs": [],
   "source": [
    "pd.crosstab(index = kmean_4.labels_, We see that the four clusters obtained using hierarchical clustering and Kmeans clustering are somewhat different. Cluster 0 in K-means clustering is almost identical to cluster 2 in hierarchical clustering. However, the other clusters differ: for instance, cluster 2 in K-means clustering contains a portion of the observations assigned to cluster 0 by hierarchical clustering, as well as all of the observations assigned to cluster 1 by hierarchical clustering.\n",
    "\n",
    "\n",
    "            columns = nci_hc_complete_4_clusters.T[0], \n",
    "            rownames = ['K-Means'], \n",
    "            colnames = ['Hierarchical'])"
   ]
  }
 ],
 "metadata": {
  "kernelspec": {
   "display_name": "Python 3",
   "language": "python",
   "name": "python3"
  },
  "language_info": {
   "codemirror_mode": {
    "name": "ipython",
    "version": 3
   },
   "file_extension": ".py",
   "mimetype": "text/x-python",
   "name": "python",
   "nbconvert_exporter": "python",
   "pygments_lexer": "ipython3",
   "version": "3.7.3"
  }
 },
 "nbformat": 4,
 "nbformat_minor": 2
}
